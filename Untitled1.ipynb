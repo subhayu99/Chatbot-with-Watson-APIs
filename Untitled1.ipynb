{
 "cells": [
  {
   "cell_type": "code",
   "execution_count": 9,
   "metadata": {},
   "outputs": [
    {
     "name": "stdout",
     "output_type": "stream",
     "text": [
      "Requirement already satisfied: ibm_watson in /home/jupyterlab/conda/envs/python/lib/python3.6/site-packages (4.4.0)\n",
      "Requirement already satisfied: bs4 in /home/jupyterlab/conda/envs/python/lib/python3.6/site-packages (0.0.1)\n",
      "Requirement already satisfied: websocket-client==0.48.0 in /home/jupyterlab/conda/envs/python/lib/python3.6/site-packages (from ibm_watson) (0.48.0)\n",
      "Requirement already satisfied: python-dateutil>=2.5.3 in /home/jupyterlab/conda/envs/python/lib/python3.6/site-packages (from ibm_watson) (2.8.1)\n",
      "Requirement already satisfied: requests<3.0,>=2.0 in /home/jupyterlab/conda/envs/python/lib/python3.6/site-packages (from ibm_watson) (2.23.0)\n",
      "Requirement already satisfied: ibm-cloud-sdk-core==1.5.1 in /home/jupyterlab/conda/envs/python/lib/python3.6/site-packages (from ibm_watson) (1.5.1)\n",
      "Requirement already satisfied: beautifulsoup4 in /home/jupyterlab/conda/envs/python/lib/python3.6/site-packages (from bs4) (4.9.0)\n",
      "Requirement already satisfied: six in /home/jupyterlab/conda/envs/python/lib/python3.6/site-packages (from websocket-client==0.48.0->ibm_watson) (1.14.0)\n",
      "Requirement already satisfied: certifi>=2017.4.17 in /home/jupyterlab/conda/envs/python/lib/python3.6/site-packages (from requests<3.0,>=2.0->ibm_watson) (2020.4.5.1)\n",
      "Requirement already satisfied: chardet<4,>=3.0.2 in /home/jupyterlab/conda/envs/python/lib/python3.6/site-packages (from requests<3.0,>=2.0->ibm_watson) (3.0.4)\n",
      "Requirement already satisfied: urllib3!=1.25.0,!=1.25.1,<1.26,>=1.21.1 in /home/jupyterlab/conda/envs/python/lib/python3.6/site-packages (from requests<3.0,>=2.0->ibm_watson) (1.25.8)\n",
      "Requirement already satisfied: idna<3,>=2.5 in /home/jupyterlab/conda/envs/python/lib/python3.6/site-packages (from requests<3.0,>=2.0->ibm_watson) (2.9)\n",
      "Requirement already satisfied: PyJWT>=1.7.1 in /home/jupyterlab/conda/envs/python/lib/python3.6/site-packages (from ibm-cloud-sdk-core==1.5.1->ibm_watson) (1.7.1)\n",
      "Requirement already satisfied: soupsieve>1.2 in /home/jupyterlab/conda/envs/python/lib/python3.6/site-packages (from beautifulsoup4->bs4) (2.0)\n"
     ]
    }
   ],
   "source": [
    "!pip install ibm_watson bs4"
   ]
  },
  {
   "cell_type": "code",
   "execution_count": 10,
   "metadata": {},
   "outputs": [],
   "source": [
    "import os\n",
    "from glob import glob\n",
    "from bs4 import BeautifulSoup\n",
    "import IPython\n",
    "from ibm_cloud_sdk_core.authenticators import IAMAuthenticator\n",
    "from ibm_watson import SpeechToTextV1\n",
    "from ibm_watson import AssistantV2\n",
    "from ibm_watson import TextToSpeechV1"
   ]
  },
  {
   "cell_type": "code",
   "execution_count": 11,
   "metadata": {},
   "outputs": [],
   "source": [
    "recognition_service= SpeechToTextV1(IAMAuthenticator('AIaZNQzeGsmVwAjbL-dsGreh-0VAf5sEq62TBO0FUKyV'))\n",
    "recognition_service.set_service_url('https://api.au-syd.assistant.watson.cloud.ibm.com/instances/7cf6fc29-0147-4189-af2a-03fd9f30d7c7')\n",
    "SPEECH_EXTENSION= \"*.webm\"\n",
    "SPEECH_AUDIOTYPE= \"audio/webm\"\n",
    "\n",
    "def recognize_audio():\n",
    "    while len(glob(SPEECH_EXTENSION))== 0:\n",
    "        pass\n",
    "    filename= glob(SPEECH_EXTENSION)[0]\n",
    "    audio_file= open(filename, \"rb\")\n",
    "    os.popen(\"rm\" + filename)\n",
    "    result= recognition_service.recognize(audio=audio_file, content_type=SPEECH_AUDIOTYPE).get_result()\n",
    "    return result[\"results\"][0][\"alternatives\"][0][\"transcript\"]"
   ]
  },
  {
   "cell_type": "code",
   "execution_count": 12,
   "metadata": {},
   "outputs": [],
   "source": [
    "assistant= AssistantV2(version='2020-04-01', authenticator=IAMAuthenticator('AIaZNQzeGsmVwAjbL-dsGreh-0VAf5sEq62TBO0FUKyV'))\n",
    "assistant.set_service_url('https://api.au-syd.assistant.watson.cloud.ibm.com/instances/7cf6fc29-0147-4189-af2a-03fd9f30d7c7')\n",
    "ASSISTANT_ID= \"bf451fc2-074e-4057-83e4-7b1c4ef0a136\"\n",
    "session_id= assistant.create_session(assistant_id=ASSISTANT_ID).get_result()[\"session_id\"]\n",
    "\n",
    "def message_assistant(text):\n",
    "    response= assistant.message(assistant_id=ASSISTANT_ID,\n",
    "                                session_id=session_id,\n",
    "                                input={'message_type': 'text', 'text': text}).get_result()\n",
    "    return BeautifulSoup(response[\"output\"][\"generic\"][0][\"text\"]).get_text()"
   ]
  },
  {
   "cell_type": "code",
   "execution_count": 13,
   "metadata": {},
   "outputs": [],
   "source": [
    "synthesis_service= SpeechToTextV1(IAMAuthenticator('AIaZNQzeGsmVwAjbL-dsGreh-0VAf5sEq62TBO0FUKyV'))\n",
    "synthesis_service.set_service_url('https://api.au-syd.assistant.watson.cloud.ibm.com/instances/7cf6fc29-0147-4189-af2a-03fd9f30d7c7')\n",
    "\n",
    "def speak_text(text):\n",
    "    with open('temp.wav','wb') as audio_file:\n",
    "        response= synthesis_service.synthesize(text, accept='audio/wav', voice=\"en-US_AllisonV3Voice\").get_result()\n",
    "        audio_file.write(response.content)\n",
    "    return IPython.display.Audio(\"temp.wav\", autoplay=True)"
   ]
  },
  {
   "cell_type": "code",
   "execution_count": null,
   "metadata": {},
   "outputs": [],
   "source": [
    "speak_text(message_assistant(recognize_audio()))"
   ]
  },
  {
   "cell_type": "code",
   "execution_count": null,
   "metadata": {},
   "outputs": [],
   "source": []
  }
 ],
 "metadata": {
  "kernelspec": {
   "display_name": "Python",
   "language": "python",
   "name": "conda-env-python-py"
  },
  "language_info": {
   "codemirror_mode": {
    "name": "ipython",
    "version": 3
   },
   "file_extension": ".py",
   "mimetype": "text/x-python",
   "name": "python",
   "nbconvert_exporter": "python",
   "pygments_lexer": "ipython3",
   "version": "3.6.10"
  }
 },
 "nbformat": 4,
 "nbformat_minor": 4
}
